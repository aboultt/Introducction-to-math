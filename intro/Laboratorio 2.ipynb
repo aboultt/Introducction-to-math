{
 "cells": [
  {
   "cell_type": "markdown",
   "metadata": {},
   "source": [
    "# Numpy\n",
    "\n",
    "Python es un lenguaje de fuente abierta, esto es existen muchos colaboradores que crean paquetes o librerias que están a libre disposición de los usuarios. Estos paquetes o librerias pueden estar en un repositorio como Github [Github](https://github.com/) o en el repositorio oficial de Python [pypi](https://pypi.python.org/pypi). [Numpy](http://www.numpy.org/) es una librería clásica. Es una librería en la que se define un tipo de dato que representa matrices multidimensionales. Además incluye algunas funcionalidades básicas para trabajar con ellas. Numpy es una librería estable y muy rápida.\n",
    "\n",
    "* Un array puede contener: tiempos discretos de un experimento o simulación, señales grabadas por un instrumento de medida, pixeles de una imagen, etc.\n",
    "\n",
    "Para importar Numpy debemos realizar\n",
    "\n",
    "`import numpy as np`"
   ]
  },
  {
   "cell_type": "code",
   "execution_count": 1,
   "metadata": {},
   "outputs": [],
   "source": [
    "import numpy as np ## llamamos a la lirería numpy, esta queda incorporada en esta hoja de trabajo sin necesidad de volver a llamarla\n"
   ]
  },
  {
   "cell_type": "code",
   "execution_count": 7,
   "metadata": {
    "collapsed": true
   },
   "outputs": [],
   "source": [
    "a = np.array([1,2,3,4], dtype = float) # definición de array unidimensional, lo definimos como flotante\n",
    "print(a)"
   ]
  },
  {
   "cell_type": "code",
   "execution_count": null,
   "metadata": {},
   "outputs": [],
   "source": [
    "## algunas funciones elementales ####\n",
    "b = np.array([1,2,5,6]) ### creamos otro array para hacer operaciones con el array a\n",
    "print  (\"Tipo del objeto a = \",  type(a)) ### tipo de objeto \n",
    "print (\" Dimensión de a = \", a.ndim)  ###dimension del array\n",
    "print (\" Cantidad de elementos = \", len(a))  ### cantidad de elementos en la primera dimension\n",
    "print (\" Sumatoria elementos de a = \", np.sum(a)) ### suma todos los elementos del array\n",
    "print (\"a_1, a_3 =\", a[0], a[2]) ### para acceder a los elementos del array, note que el contador comienza en 0, a[0] es el primer elemento\n",
    "print (\"a_4 = \", a[-1]) ### nos otorga el último elemento del array\n",
    "print (\"Promedio elementos de a=\", np.mean(a)) ### nos entrega el promedio\n",
    "print (\"3*a= \", 3*a)  ### multiplica todos los terminos del array\n",
    "print (\" a+2 = \", 2 + a) ### cuando sumamos un número a un array, este se suma a cada término\n",
    "print (\" a*b = \", a*b) ### la multiplicaciones de arrays usando * es término a término\n",
    "print (\" <a,b> = \", np.dot(a,b)) ### corresponde al producto punto entre vectores"
   ]
  },
  {
   "cell_type": "markdown",
   "metadata": {},
   "source": [
    "# Ejercicio\n",
    "\n",
    "Sea $A = (1,2,3,5,8,9,1,2)$. Usando Numpy calcular $ \\sqrt{\\overline{A} + 5}$. Donde $\\overline{A}$ es el promedio de los datos del vector $A$."
   ]
  },
  {
   "cell_type": "code",
   "execution_count": null,
   "metadata": {},
   "outputs": [],
   "source": [
    "########## Arrays 2 dimensionales (matrices) ############\n",
    "A = np.array ([[1,2,3,4],[5,6,3,1]] ,  dtype = float) ### creación de un array de 2x4\n",
    "B = np.array ([[1,5],[2,8],[3,5],[1,9]], dtype = float) ### creación de un array de 4x2\n",
    "\n",
    "print (\"Dimensiones de A y B =\",  np.shape(A), np.shape(B))  ### nos otorga ls dimensiones de los arreglos)\n",
    "print  (\"Fila 1 de A = \",  A[0,:]) ### nos da acceso a la primera fila del arreglo A\n",
    "print (\"Fila 2 de A = \", A[1,:]) ### nos da acceso a la segunda fila del arreglo A\n",
    "print (\"Columna 1 de A = \", A[:,0]) ### nos da acceso a la primera columna del arreglo A\n",
    "print (\"Elemento A_{2,2} = \", A[1,1]) ### nos entrega el elemento A_{2,2} de el arreglo A\n",
    "print (\"A*B =\\n\", np.dot(A,B)) ### multiplicación usual de matrices, note que se deben tener las dimensiones correctas de la multiplicación\n"
   ]
  },
  {
   "cell_type": "markdown",
   "metadata": {},
   "source": [
    "# Ejercicio \n",
    "\n",
    "* Defina las siguientes matrices\n",
    "\n",
    "$$\\begin{aligned}\n",
    "M = \\begin{bmatrix}\n",
    "    1 & 2 & 3 & 4 & 5 \\\\\n",
    "    3 & 4 & 5 & 6 & 7 \\\\\n",
    "    7 & 8 & 4.5 & 10.7 & 8\n",
    "      \\end{bmatrix}\n",
    "\\end{aligned}$$\n",
    "\n",
    "$$\\begin{aligned}\n",
    "  N = \\begin{bmatrix}\n",
    "    1 & 20 & 9  \\\\\n",
    "    3.4 & 4.1 & 0 \\\\\n",
    "    4.5 & 2  & 1.1\n",
    "  \\end{bmatrix}\n",
    "\\end{aligned}$$\n",
    "\n",
    "* Calcule $M^{2}$\n",
    "\n",
    "* Calcule $ N*M$"
   ]
  },
  {
   "cell_type": "markdown",
   "metadata": {},
   "source": [
    "# Grillas\n"
   ]
  },
  {
   "cell_type": "code",
   "execution_count": null,
   "metadata": {},
   "outputs": [],
   "source": [
    "from mpl_toolkits.mplot3d import Axes3D\n",
    "import matplotlib.pyplot as plt\n",
    "%matplotlib inline\n",
    "import random\n",
    "\n",
    "def fun(x, y):\n",
    "  return x**2 + y\n",
    "\n",
    "x = y = np.arange(-3.0, 3.0, 0.05)\n",
    "X, Y = np.meshgrid(x, y)\n",
    "Z = fun(X,Y)\n",
    "fig = plt.figure(figsize = (10,10))\n",
    "ax = fig.add_subplot(111, projection='3d')\n",
    "ax.plot_surface(X, Y, Z)\n",
    "ax.set_xlabel('Eje x')\n",
    "ax.set_ylabel('Eje y')\n",
    "ax.set_zlabel('Eje z')\n",
    "plt.show()"
   ]
  },
  {
   "cell_type": "markdown",
   "metadata": {},
   "source": [
    "# Ejercicio \n",
    "\n",
    "Graficar la función $f(x,y) = x^2 + y^2$ con $(x,y)\\in [-2,2]\\times[-2,2]$, para ello use una grilla de 400 nodos."
   ]
  },
  {
   "cell_type": "markdown",
   "metadata": {},
   "source": [
    " # Proposicones Lógicas\n",
    "Una expresión lógica es algo verdadero o falso. Por ejemplo, sabemos que 2 es mayor que 1, por lo tanto es verdadero. Si pensamos en “2 es mayor que 1”, es falso. Este tipo de expresiones están plenamente soportadas en cualquier lenguaje de programación, y en Python tenemos las de la siguiente tabla:"
   ]
  },
  {
   "cell_type": "markdown",
   "metadata": {},
   "source": [
    "|Expresión | Resultado  |  Operador   |  Ejemplo   |\n",
    "|------|------|-----|-----|\n",
    "|  Igual   | Verdadero (True) si los dos operandos son iguales; falso (False) si no|   ==  |  2 == 3, retorna False.   |\n",
    "|Disntinto |Verdadero (True) si los dos operandos son diferentes; falso (False) si no|!=|2!=4, retorna True.|\n",
    "| Mayor que | Verdaero (True) si el lado izquierdo es mayor que el lado derecho, falso (False) si no| >| 100 > 9, retorna True.|\n",
    "|Mayor o igual que| Verdaero (True) si el lado izquierdo es mayor o igual que el lado derecho, falso (False) si no| >= | 100>=100 retorna True|\n",
    "| Negación | \tVerdadero (True) si la expresión a su derecha es falsa (False); falso (False) si no| not | not 500 < 200, retorna True|\n",
    "| Y lógico | Verdadero (True) si la expresión a su izquierda es verdadera y también la expresióna su derecha. Falso (False) encualquier otro caso| and| 6 <= 6 and 2 ==2 retorna True.| \n",
    "| O lógico | Verdadero (True) si la expresión a su izquierda es verdadera o lo es la expresión a su derecha. Falso (False) sólo en caso de que las dos sean falsas.| or | 10 <= 3 or 2 == 2, retorna True.|"
   ]
  },
  {
   "cell_type": "code",
   "execution_count": null,
   "metadata": {},
   "outputs": [],
   "source": [
    "print (2 == 3)"
   ]
  },
  {
   "cell_type": "code",
   "execution_count": null,
   "metadata": {},
   "outputs": [],
   "source": [
    "print (2 != 4)"
   ]
  },
  {
   "cell_type": "code",
   "execution_count": null,
   "metadata": {},
   "outputs": [],
   "source": [
    "print (100 >9)"
   ]
  },
  {
   "cell_type": "code",
   "execution_count": null,
   "metadata": {},
   "outputs": [],
   "source": [
    "print (100>= 100)"
   ]
  },
  {
   "cell_type": "code",
   "execution_count": null,
   "metadata": {},
   "outputs": [],
   "source": [
    "print not (100 < 200)"
   ]
  },
  {
   "cell_type": "code",
   "execution_count": null,
   "metadata": {},
   "outputs": [],
   "source": [
    "print (6<= 6 and 2 ==2)"
   ]
  },
  {
   "cell_type": "markdown",
   "metadata": {},
   "source": [
    "# Sentencias condicionales\n",
    "\n",
    "Observemos la siguiente linea de código"
   ]
  },
  {
   "cell_type": "code",
   "execution_count": null,
   "metadata": {},
   "outputs": [],
   "source": [
    "if 10 > 30:\n",
    "    print(\"Python no funciona: cree que 10 es mayor que 30.\")\n",
    "elif 10 == 30:\n",
    "    print(\"Tampoco: ahora cree que 10 es igual a 30.\")\n",
    "else:\n",
    "    print(\"Efectivamente, 10 es menor que 30\")"
   ]
  },
  {
   "cell_type": "markdown",
   "metadata": {},
   "source": [
    "La sentencia  `if` significa “si”, sin tilde, condicional; else significa “en otro caso”, o “si no”; elif es simplemente una contracción de else e if. La sentencia else sólo puede escribirse una vez.\n",
    "\n",
    "Es obvio que el resultado de la sentencia de ejemplo va a ser la frase “Efectivamente, 10 es menor que 30. Y así debe ser.”\n",
    "\n",
    "Así, queda clara la estructura de las condiciones en Python: se escriben usando la sentencia compuesta `if`, `elif`, `else`. Nos proporciona una forma de especificar una condición principal que, si se cumple, ejecuta un bloque de código. Para los casos en los que esa condición no se cumpla, podremos opcionalmente especificar una serie arbitrariamente larga de condiciones alternativas que, si se cumpliesen, harían que el intérprete de Python ejecutase otros bloques de código. Por último podremos especificar opcionalmente un último miembro que se ejecutará si todo lo demás es falso.\n",
    "\n",
    "**Importante**: Las condiciones de esta sentencia compuesta son excluyentes, tal y como marcan las conjunciones inglesas `else`, que podemos entender como “por el contrario”. `if`, `elif`, `else` especifican lo que se conoce como un árbol de reglas: en el momento en el que se cumple una de sus condiciones, el código toma una dirección y el resto del árbol no se evalúa.  Consideremos el siguiente ejemplo"
   ]
  },
  {
   "cell_type": "code",
   "execution_count": 4,
   "metadata": {},
   "outputs": [
    {
     "name": "stdout",
     "output_type": "stream",
     "text": [
      "3 es menor que 5.\n"
     ]
    }
   ],
   "source": [
    "if 0 > 2:\n",
    "    print (\"0 es mayor que 2.\")\n",
    "elif 3 < 5:\n",
    "    print (\"3 es menor que 5.\")\n",
    "elif 4 < 9:\n",
    "    print (\"4 es menor que 9.\")\n",
    "else:\n",
    "    print (\"Si lees esto,... gg me voy de aquí\")"
   ]
  },
  {
   "cell_type": "markdown",
   "metadata": {},
   "source": [
    "Todas las sentencias condicionales son verdaderas, sin embargo solo se ejecuta la primera, esto es por que Python encuentra una rama de árbol en que se cumpla la afirmación, la ejecuta y todo termina.\n",
    "\n",
    "En el siguiente ejemplo, usaremos el comando `raw_input()`, que corresponde a una función de interacción con el usuario. Simplemente la consola nos solicita un dato (que puede ser númerico, string, entre otros) de forma interactiva."
   ]
  },
  {
   "cell_type": "code",
   "execution_count": 42,
   "metadata": {},
   "outputs": [
    {
     "name": "stdout",
     "output_type": "stream",
     "text": [
      "Ingresa un entero, por favor: 3\n"
     ]
    }
   ],
   "source": [
    "x = int(raw_input(\"Ingresa un entero, por favor: \"))\n"
   ]
  },
  {
   "cell_type": "code",
   "execution_count": 44,
   "metadata": {},
   "outputs": [
    {
     "name": "stdout",
     "output_type": "stream",
     "text": [
      "Ingresa un entero, por favor: 50\n",
      "El numero es positivo\n"
     ]
    }
   ],
   "source": [
    "## Ejemplo ## \n",
    "numero = int(raw_input(\"Ingresa un entero, por favor: \")) ## solicitamos a la consola preguntarnos por un numero\n",
    "if numero < 0:   \n",
    "    print 'El numero ingresado es negativo'\n",
    "elif numero == 0:\n",
    "    print 'El numero ingresado es 0'\n",
    "elif numero > 0:\n",
    "    print 'El numero es positivo'\n"
   ]
  },
  {
   "cell_type": "markdown",
   "metadata": {},
   "source": [
    "# Ejercicio \n",
    "Escriba un programa que pida al usuario ingresar sus tres notas, calcule el promedio y lo felicite solamente si su promedio es mayor a 5.5 , pero siempre le indique su promedio.\n",
    "\n"
   ]
  },
  {
   "cell_type": "code",
   "execution_count": null,
   "metadata": {},
   "outputs": [],
   "source": [
    "def prom(n1, n2, n3):\n",
    "    suma = n1 + n2 + n3\n",
    "    return suma / 3.0\n",
    "\n",
    "n1 = float(input('Nota 1: '))\n",
    "n2 = float(input('Nota 2: '))\n",
    "n3 = float(input('Nota 3: '))\n",
    "\n",
    "promedio = prom(n1, n2, n3)\n",
    "\n",
    "print ('Su promedio es', promedio)\n",
    "\n",
    "if promedio > 5.5:\n",
    "    print ('Felicitaciones!')\n"
   ]
  },
  {
   "cell_type": "markdown",
   "metadata": {},
   "source": [
    "# Ejercicio\n",
    "\n",
    "Escriba un programa que pida al usuario ingresar sus tres notas, calcule el promedio y le indique si reprobó o aprobó, indicando la nota."
   ]
  },
  {
   "cell_type": "code",
   "execution_count": null,
   "metadata": {},
   "outputs": [],
   "source": [
    "def prom(n1, n2, n3):\n",
    "    suma = n1 + n2 + n3\n",
    "    return float(round(suma / 3.))\n",
    "\n",
    "n1 = float(input('Nota 1: '))\n",
    "n2 = float(input('Nota 2: '))\n",
    "n3 = float(input('Nota 3: '))\n",
    "\n",
    "promedio = prom(n1, n2, n3)\n",
    "\n",
    "### Completar! ####"
   ]
  },
  {
   "cell_type": "markdown",
   "metadata": {},
   "source": [
    "# Ejercicio\n",
    "Escriba un programa que pida al usuario ingresar sus tres notas, e indique si su promedio  es pésimo (menor a 3.5), regular (3.5 a 4), aceptable (4 a 5.4) o excelente ( mayor o igual a 5.5)."
   ]
  },
  {
   "cell_type": "code",
   "execution_count": null,
   "metadata": {},
   "outputs": [],
   "source": [
    "def prom(n1, n2, n3):\n",
    "    suma = n1 + n2 + n3\n",
    "    return int(round(suma / 3.0))\n",
    "\n",
    "n1 = float(input('Nota 1: '))\n",
    "n2 = float(input('Nota 2: '))\n",
    "n3 = float(input('Nota 3: '))\n",
    "\n",
    "promedio = prom(n1, n2, n3)\n",
    "\n",
    "print ('Su promedio', promedio, 'es',)\n",
    "\n",
    "if promedio < 3.0:\n",
    "    print ('pesimo')\n",
    "elif promedio < 4.0:\n",
    "    print ('mediocre')\n",
    "elif promedio < 5.4:\n",
    "    print ('aceptable')\n",
    "else:\n",
    "    print ('excelente!')"
   ]
  },
  {
   "cell_type": "markdown",
   "metadata": {},
   "source": [
    "# Sentencias `while` y `break`\n",
    "While en inglés significa mientras, la sentencia `while` corresponde a un ciclo que se ejecutara hasta que una condición que hayamos indicado se cumpla, observar el siguiente ejemplo\n"
   ]
  },
  {
   "cell_type": "code",
   "execution_count": 4,
   "metadata": {},
   "outputs": [
    {
     "name": "stdout",
     "output_type": "stream",
     "text": [
      "0 1 2 3 4 5 6 7 8 9 10 11 12 13 14 15 16 17 18 19 20 21 22 23 24 25 26 27 28 29 30 31 32 33 34 35 36 37 38 39 40 41 42 43 44 45 46 47 48 49 50 51 52 53 54 55 56 57 58 59 60 61 62 63 64 65 66 67 68 69 70 71 72 73 74 75 76 77 78 79 80 81 82 83 84 85 86 87 88 89 90 91 92 93 94 95 96 97 98 99\n"
     ]
    }
   ],
   "source": [
    "## Ejemplo ##\n",
    "contador = 0\n",
    "while contador < 100:\n",
    "    print (contador,) \n",
    "    contador = contador + 1\n",
    "\n",
    "      "
   ]
  },
  {
   "cell_type": "markdown",
   "metadata": {
    "collapsed": true
   },
   "source": [
    "El código anterior crea un contador, notar que impusimos la condición `while contador < 100`, esto significa que contaremos los 100 primeros números. Note con cuidado que el conteo comienza con el número 0. \n",
    "\n",
    "Otro ejemplo interesante, es la famosa sucesión de Fibonacci. La sucesión se define de forma recursiva:\n",
    "$$a_n = a_{n-1} + a_{n-2}$$\n",
    "iniciando con $a_0 = 0$ y $a_1 = 1$"
   ]
  },
  {
   "cell_type": "code",
   "execution_count": null,
   "metadata": {},
   "outputs": [],
   "source": [
    "## Ejemplo: sucesión de Fibonacci\n",
    "a, b = 0, 1   # primeros dos elementos de la sucesión\n",
    "while b < 10000:\n",
    "    print (b,)\n",
    "    a, b = b, a+b\n",
    "    "
   ]
  },
  {
   "cell_type": "markdown",
   "metadata": {
    "collapsed": true
   },
   "source": [
    "La sentencia `break` se puede usar en bucles  `for`y `while` y simplemente termina el ciclo actual y continua con la ejecución de la siguiente instrucción, por ejemplo el código siguiente es un detector de números primos!"
   ]
  },
  {
   "cell_type": "code",
   "execution_count": null,
   "metadata": {},
   "outputs": [],
   "source": [
    "## EJEMPLO ##\n",
    "## DETECTOR DE NÚMEROS PRIMOS...##\n",
    "\n",
    "tope = 30\n",
    "for x in range(2,tope):\n",
    "    for y in range (2,x):\n",
    "        if x % y == 0:\n",
    "            print x, 'no es primo'    \n",
    "            break                      ############# Se termina el ciclo for cuando se encuentra un divisor!!!\n",
    "    else:\n",
    "        print (x, 'es  primo')"
   ]
  },
  {
   "cell_type": "markdown",
   "metadata": {
    "collapsed": true
   },
   "source": [
    "**Observación:** En el código que usamos para detectar números primos, usamos la función `%` que entrega el resto de la división, por ejemplo $a$ `%` $b$ corresponde al resto de dividr $a$ por $b$"
   ]
  },
  {
   "cell_type": "markdown",
   "metadata": {},
   "source": [
    "# Ejercicio"
   ]
  },
  {
   "cell_type": "markdown",
   "metadata": {},
   "source": [
    "Un ejemplo interesante es programar la multiplicación matricial, si bien esta función esta incorporada en `numpy` con el comando `np.dot()`, resulta interesante programarla con fines de entrenamiento. Sean entonces $A\\in\\mathcal{M}_{m,n}(\\mathbb{R})$ y $A\\in\\mathcal{M}_{n,p}(\\mathbb{R})$. Escribir un código para calcular $C = AB$. Recordar que el elemento $c_{i,j}$ de la matriz $C$ viene dado por \n",
    "$$c_{i,j} = \\sum_{k = 1}^n a_{i,k}b_{k,j}$$"
   ]
  },
  {
   "cell_type": "code",
   "execution_count": null,
   "metadata": {
    "collapsed": true
   },
   "outputs": [],
   "source": []
  }
 ],
 "metadata": {
  "kernelspec": {
   "display_name": "Python 3",
   "language": "python",
   "name": "python3"
  },
  "language_info": {
   "codemirror_mode": {
    "name": "ipython",
    "version": 3
   },
   "file_extension": ".py",
   "mimetype": "text/x-python",
   "name": "python",
   "nbconvert_exporter": "python",
   "pygments_lexer": "ipython3",
   "version": "3.6.4"
  }
 },
 "nbformat": 4,
 "nbformat_minor": 1
}
