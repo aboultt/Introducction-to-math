{
 "cells": [
  {
   "cell_type": "code",
   "execution_count": null,
   "metadata": {},
   "outputs": [
    {
     "name": "stdout",
     "output_type": "stream",
     "text": [
      "Imagen tiene 1920x1080 pixeles y esta en formato PNG\n"
     ]
    }
   ],
   "source": [
    "# Imports\n",
    "from sklearn.cluster import KMeans\n",
    "from sklearn.metrics import confusion_matrix\n",
    "from PIL import Image\n",
    "import numpy as np\n",
    "# Parameters\n",
    "k = 4\n",
    "\n",
    "# Data\n",
    "input_path = \"Netero.PNG\" #utilizamos el formato PNG para la implementación de las imagenes en latex\n",
    "image_format = input_path.split(\".\")[-1].upper()\n",
    "output_path = input_path.replace(\".\",\"_k%02d.\"%k)\n",
    "# Read image\n",
    "im = Image.open(input_path, 'r')\n",
    "width, height = im.size\n",
    "print (\"Imagen tiene %dx%d pixeles y esta en formato %s\" %(width, height, image_format))\n",
    "X = np.array(im.getdata(), dtype=np.uint8) # x_i = (R_i, G_i, B_i)\n",
    "\n",
    "# Algorithm\n",
    "kmeans = KMeans(k)\n",
    "kmeans.fit(X)\n",
    "centroids = kmeans.cluster_centers_\n",
    "clusters = kmeans.labels_\n",
    "# Postprocessing to save the image with the \"clusterized\" colors\n",
    "#print \"Rearmando la imagen con los nuevos colores\"\n",
    "X_compressed = np.zeros(X.shape)\n",
    "for i in range(len(clusters)):\n",
    "    X_compressed[i,:] = centroids[clusters[i],:]\n",
    "# Write Image\n",
    "X_compressed = X_compressed.round().astype(np.uint8)\n",
    "result = Image.fromarray(X_compressed.reshape(height,width,3))\n",
    "result.save(output_path, format=image_format)\n"
   ]
  },
  {
   "cell_type": "code",
   "execution_count": null,
   "metadata": {
    "collapsed": true
   },
   "outputs": [],
   "source": []
  }
 ],
 "metadata": {
  "kernelspec": {
   "display_name": "Python 3",
   "language": "python",
   "name": "python3"
  },
  "language_info": {
   "codemirror_mode": {
    "name": "ipython",
    "version": 3
   },
   "file_extension": ".py",
   "mimetype": "text/x-python",
   "name": "python",
   "nbconvert_exporter": "python",
   "pygments_lexer": "ipython3",
   "version": "3.6.4"
  }
 },
 "nbformat": 4,
 "nbformat_minor": 1
}
