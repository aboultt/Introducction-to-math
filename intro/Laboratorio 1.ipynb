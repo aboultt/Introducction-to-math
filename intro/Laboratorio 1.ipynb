{
 "cells": [
  {
   "cell_type": "markdown",
   "metadata": {},
   "source": [
    "# Introducción a Python\n"
   ]
  },
  {
   "cell_type": "markdown",
   "metadata": {},
   "source": [
    "# Python como calculadora\n",
    "La función más básica de python es tal vez su uso como calculadora, a continuación se describen las operaciones suma $+$, resta $-$, multiplicación $*$ y división de numeros reales.\n",
    "![](imagenes/calculadora.jpg)"
   ]
  },
  {
   "cell_type": "code",
   "execution_count": 2,
   "metadata": {},
   "outputs": [
    {
     "data": {
      "text/plain": [
       "2"
      ]
     },
     "execution_count": 2,
     "metadata": {},
     "output_type": "execute_result"
    }
   ],
   "source": [
    "1+1"
   ]
  },
  {
   "cell_type": "markdown",
   "metadata": {},
   "source": [
    "Observemos lo siguiente, cuando en una misma celda de código escribimos varios sumas, como se ve a continuación\n"
   ]
  },
  {
   "cell_type": "code",
   "execution_count": 3,
   "metadata": {
    "scrolled": true
   },
   "outputs": [
    {
     "data": {
      "text/plain": [
       "1100"
      ]
     },
     "execution_count": 3,
     "metadata": {},
     "output_type": "execute_result"
    }
   ],
   "source": [
    "1+1\n",
    "2+2    # Muchas sumas en una misma celda de código\n",
    "4+5\n",
    "100+1000"
   ]
  },
  {
   "cell_type": "markdown",
   "metadata": {},
   "source": [
    "esta celda nos otorga el valor de la última suma (última linea de la celda). Para obtener todos los valores debemos usar el comando `print`\n"
   ]
  },
  {
   "cell_type": "code",
   "execution_count": 3,
   "metadata": {},
   "outputs": [
    {
     "name": "stdout",
     "output_type": "stream",
     "text": [
      "2\n",
      "4\n",
      "9\n",
      "1100\n"
     ]
    }
   ],
   "source": [
    "print (1+1)\n",
    "print (2+2) #Ahora la celda nos otorga el valor de las 4 sumas, todo gracias al comando print\n",
    "print (4+5) \n",
    "print (100+1000)"
   ]
  },
  {
   "cell_type": "markdown",
   "metadata": {
    "collapsed": true
   },
   "source": [
    "La resta es completamente análoga a la suma. La división requiere un poco más de cuidado, notemos la siguiente division"
   ]
  },
  {
   "cell_type": "code",
   "execution_count": 1,
   "metadata": {},
   "outputs": [
    {
     "data": {
      "text/plain": [
       "2"
      ]
     },
     "execution_count": 1,
     "metadata": {},
     "output_type": "execute_result"
    }
   ],
   "source": [
    "7/3"
   ]
  },
  {
   "cell_type": "markdown",
   "metadata": {
    "collapsed": true
   },
   "source": [
    "esta división $7/3$ nos otorga el valor de 2, es decir, el valor truncado. Para obtener los decimales se debe agregar un punto al final de cada número, esto se conoce como declaración de número $\\textit{flotante}$. \n",
    "\n",
    "$\\textbf{Importante:}$ la declaración de un número como flotante es muy importante, suele suceder en códigos complejos la no declaración de números como flotantes, arroja resultados completamente diferentes.\n",
    "\n",
    "En la celda siguiente, se escribe la manera de dividir que considera los decimales"
   ]
  },
  {
   "cell_type": "code",
   "execution_count": 4,
   "metadata": {},
   "outputs": [
    {
     "data": {
      "text/plain": [
       "2.3333333333333335"
      ]
     },
     "execution_count": 4,
     "metadata": {},
     "output_type": "execute_result"
    }
   ],
   "source": [
    "7./3."
   ]
  },
  {
   "cell_type": "markdown",
   "metadata": {},
   "source": [
    "La multiplicación se ejecuta con $\\ast$. Para elevar un número a alguna potencia usamos doble asterisco $\\ast\\ast$"
   ]
  },
  {
   "cell_type": "code",
   "execution_count": 7,
   "metadata": {},
   "outputs": [
    {
     "name": "stdout",
     "output_type": "stream",
     "text": [
      "30458200\n",
      "-1988\n",
      "62\n"
     ]
    }
   ],
   "source": [
    "(print 100*304582) \n",
    "print (2**9 - 2500)\n",
    "print (2**1 + 2**2 + 2**3 + 2**4 + 2**5)"
   ]
  },
  {
   "cell_type": "markdown",
   "metadata": {},
   "source": [
    "El uso de parentesis sigue los mismos principios de la operatoria elemental. En la operatoria de Python el parentesis se declara con el simbolo usual $()$. Por ejemplo si queremos resolver \n",
    "$$\\frac{\\left((1+ 256)180- 200(3^{2} + 1)\\right)}{2^5}$$\n",
    "en Python se hace como en la celda siguiente"
   ]
  },
  {
   "cell_type": "code",
   "execution_count": 10,
   "metadata": {},
   "outputs": [
    {
     "data": {
      "text/plain": [
       "1383.125"
      ]
     },
     "execution_count": 10,
     "metadata": {},
     "output_type": "execute_result"
    }
   ],
   "source": [
    "((1.+256.)*180. -200.*(3.**2+1.))/2.**5"
   ]
  },
  {
   "cell_type": "markdown",
   "metadata": {},
   "source": [
    "$\\textbf{Obs:}$ en la celda anterior declaramos todos los números como flotantes al poner el punto. Sin embargo para que el resultado sea el correcto, basta declarar tan solo un número como flotante ó usar el comando `float`"
   ]
  },
  {
   "cell_type": "code",
   "execution_count": 14,
   "metadata": {},
   "outputs": [
    {
     "name": "stdout",
     "output_type": "stream",
     "text": [
      "1383.125\n",
      "1383.125\n"
     ]
    }
   ],
   "source": [
    "print (((1.+256)*180 -200*(3**2+1))/2**5) ## aquí solo declarmos el número 1 como flotante al ponerlo como 1.\n",
    "print (float ((1+256)*180 -200*(3**2+1))/2**5)  ## aquí solo escribimos la operación aritmética y usamos el comando float "
   ]
  },
  {
   "cell_type": "markdown",
   "metadata": {},
   "source": [
    "Los números decimales escriben usando la notación usual del punto, y la operatoria aritmética es completamente análoga a la que definimos previamente"
   ]
  },
  {
   "cell_type": "code",
   "execution_count": 16,
   "metadata": {},
   "outputs": [
    {
     "name": "stdout",
     "output_type": "stream",
     "text": [
      "4.006\n"
     ]
    }
   ],
   "source": [
    "print (2.5 + 2.666 - 2.6**2 + 5.6)"
   ]
  },
  {
   "cell_type": "markdown",
   "metadata": {},
   "source": [
    "# Ejercicio 1\n",
    "Resolver la siguiente operatoria aritmética\n",
    "$$ \\frac{5^{3}\\left(500.5 - 2^{2^{20}} + 120-5(\\frac{2^5}{6} -3)\\right)}{2569+3^{7}}$$"
   ]
  },
  {
   "cell_type": "code",
   "execution_count": 17,
   "metadata": {
    "collapsed": true
   },
   "outputs": [],
   "source": [
    "## Escribir aca la respuesta##\n"
   ]
  },
  {
   "cell_type": "markdown",
   "metadata": {},
   "source": [
    "# Declaración de variables\n",
    "En python una de las funciones básicas más importantes corresponde a la declaración de variables. Las variables pueden contener un número, una cadena o un valor lógico (verdadero/falso) y muchas cosas más. Con el signo de asignación ( = ) se da un valor a la variable, que mantendrá hasta que el programa termine de ejecutarse o hasta que se le asigne un nuevo valor. En esta parte estaremos enfocados en asignaciones númericas. Una vez declarada una variable con un valor númerico, las operaciones elementales definidas anteriormente, funcionan de la misma forma.\n"
   ]
  },
  {
   "cell_type": "code",
   "execution_count": 10,
   "metadata": {},
   "outputs": [
    {
     "name": "stdout",
     "output_type": "stream",
     "text": [
      "1\n"
     ]
    }
   ],
   "source": [
    "x = 1 ## asignamos el valor 1 a la variable\n",
    "print x "
   ]
  },
  {
   "cell_type": "markdown",
   "metadata": {
    "collapsed": true
   },
   "source": [
    "$\\textbf{Obs}:$ Las variables se pueden redefinir, esto es, la variable guardará el último valor que le fue asignado."
   ]
  },
  {
   "cell_type": "code",
   "execution_count": 15,
   "metadata": {},
   "outputs": [
    {
     "name": "stdout",
     "output_type": "stream",
     "text": [
      "3\n"
     ]
    }
   ],
   "source": [
    "a = 1\n",
    "a = 2\n",
    "a = 3  ## este último valor, guardará la variable a\n",
    "print (a)\n"
   ]
  },
  {
   "cell_type": "markdown",
   "metadata": {
    "collapsed": true
   },
   "source": [
    "# Definición de funciones (básicas)\n",
    "Introduciremos el concepto de función en Python. Podemos definir una función como un código reutilizable, que esta hecho para resolver una determinada tarea. Para definir una función se comienza con la instrucción `def` seguido de el nombre que se le asignará a la función y de un paréntesis acompañado de los puntos `:`. Posterior a eso, escribimos el código que define la función. Observemos el siguiente ejemplo básico"
   ]
  },
  {
   "cell_type": "code",
   "execution_count": 3,
   "metadata": {},
   "outputs": [],
   "source": [
    "def mi_funcion():\n",
    "    print (\"hola mundo\")\n",
    "    "
   ]
  },
  {
   "cell_type": "markdown",
   "metadata": {
    "collapsed": true
   },
   "source": [
    "En la celda anterior hemos definido `mi_funcion `, cuando la llamamos (ver celda siguiente) nos entrega el print que la define"
   ]
  },
  {
   "cell_type": "code",
   "execution_count": 16,
   "metadata": {},
   "outputs": [
    {
     "name": "stdout",
     "output_type": "stream",
     "text": [
      "hola mundo\n"
     ]
    }
   ],
   "source": [
    "mi_funcion()  ## llamando la función"
   ]
  },
  {
   "cell_type": "markdown",
   "metadata": {
    "collapsed": true
   },
   "source": [
    "$\\textbf{Obs}:$ Quizas notaron que la función definida anteriormente no tiene argumentos de entrada. Una función puede tener argumentos de entrada. Para ello en el parentesis debemos indicarlos, y corresponderán a las variables. En el caso anterior, usamos `print` para retornar, debido a que la función entregaba una frase de texto. Ahora usaremos el comando `return` que nos otorga el valor de la función\n",
    "![](imput.png)\n",
    "En el siguiente código creamos una función que retorna el volumen de una piramide"
   ]
  },
  {
   "cell_type": "code",
   "execution_count": 23,
   "metadata": {},
   "outputs": [
    {
     "data": {
      "text/plain": [
       "10.0"
      ]
     },
     "execution_count": 23,
     "metadata": {},
     "output_type": "execute_result"
    }
   ],
   "source": [
    "def volumen_piramide(base,altura):  \n",
    "    return float (1/3.)*base*altura\n",
    "volumen_piramide(5,6)"
   ]
  },
  {
   "cell_type": "markdown",
   "metadata": {},
   "source": [
    "A continuación más ejemplos de funciones. **Importante:** en las funciones podemos usar parámetros, observe la función `saludar` en el código siguiente, en ella se usa el parámetro `mensaje`"
   ]
  },
  {
   "cell_type": "code",
   "execution_count": 16,
   "metadata": {},
   "outputs": [],
   "source": [
    "def nombre_completo(nombre,apellido):    ### función que retorna el nombre y apellido\n",
    "    print (nombre, apellido)\n",
    "def saludar (nombre, apellido, mensaje = 'hola'):  ##funcion que retorna un saludo\n",
    "     print (mensaje, nombre, apellido)\n",
    "def hipotenusa(a,b):          ## entrega la hipotenusa de un triangulo rectángulo de catetos a y b\n",
    "    c = (a**2 +b**2)**(0.5)\n",
    "    return c\n",
    "def movimiento_rectilineo_uniformemente_acelerado(a,x_0,v_0,t):\n",
    "    velocidad_t = a*t + v_0\n",
    "    posicion_t = 0.5*t**2 + v_0*t + x_0\n",
    "    return velocidad_t, posicion_t"
   ]
  },
  {
   "cell_type": "markdown",
   "metadata": {},
   "source": [
    "**Obs**: Hasta ahora hemos usado como entrada para las funciones frases de texto ó números, veremos que existe una vasta gama de poibles entradas, como por ejemplo los vectores o matrices."
   ]
  },
  {
   "cell_type": "markdown",
   "metadata": {},
   "source": [
    "# Libreria Numpy"
   ]
  },
  {
   "cell_type": "markdown",
   "metadata": {},
   "source": [
    "Python es un lenguaje de fuente abierta, esto es existen muchos colaboradores que crean paquetes o librerias que están a libre disposición de los usuarios. Estos paquetes o librerias pueden estar en un repositorio como Github [Github](https://github.com/) o en el repositorio oficial de Python [pypi](https://pypi.python.org/pypi). [Numpy](http://www.numpy.org/) es una librería clásica. Es una librería en la que se define un tipo de dato que representa matrices multidimensionales. Además incluye algunas funcionalidades básicas para trabajar con ellas. Numpy es una librería estable y muy rápida.\n",
    "\n",
    "* Un array puede contener: tiempos discretos de un experimento o simulación, señales grabadas por un instrumento de medida, pixeles de una imagen, etc.\n",
    "\n",
    "Para importar Numpy debemos realizar\n",
    "\n",
    "`import numpy as np`"
   ]
  },
  {
   "cell_type": "code",
   "execution_count": 3,
   "metadata": {},
   "outputs": [],
   "source": [
    "import numpy as np ## llamamos a la lirería numpy, esta queda incorporada en esta hoja de trabajo sin necesidad de volver a llamarla\n"
   ]
  },
  {
   "cell_type": "markdown",
   "metadata": {},
   "source": [
    "A continuación comenzamos definiendo el objeto arreglo o array en ingles. Un array es un objeto multidimensional, en dimensión 1 un array corresponde a un vector, en dimensión 2 corresponde a una matriz. Para un array tridimensional: primera componente son las filas, segunda componente son las columnas, tercera componente es la dimensión adicional.\n",
    "![](imagenes/array3.png)\n"
   ]
  },
  {
   "cell_type": "code",
   "execution_count": 19,
   "metadata": {},
   "outputs": [
    {
     "data": {
      "text/plain": [
       "array([1., 2., 3., 4.])"
      ]
     },
     "execution_count": 19,
     "metadata": {},
     "output_type": "execute_result"
    }
   ],
   "source": [
    "a = np.array([1,2,3,4], dtype = float) # definición de array unidimensional, lo definimos como flotante\n",
    "a"
   ]
  },
  {
   "cell_type": "code",
   "execution_count": 20,
   "metadata": {},
   "outputs": [
    {
     "name": "stdout",
     "output_type": "stream",
     "text": [
      "Tipo del objeto a =  <class 'numpy.ndarray'>\n",
      " Dimensión de a =  1\n",
      " Cantidad de elementos =  4\n",
      " Sumatoria elementos de a =  10.0\n",
      "a_1, a_3 = 1.0 3.0\n",
      "a_4 =  4.0\n",
      "Promedio elementos de a= 2.5\n",
      "3*a=  [ 3.  6.  9. 12.]\n",
      " a+2 =  [3. 4. 5. 6.]\n",
      " a*b =  [ 1.  4. 15. 24.]\n",
      " <a,b> =  44.0\n"
     ]
    },
    {
     "data": {
      "text/plain": [
       "(4,)"
      ]
     },
     "execution_count": 20,
     "metadata": {},
     "output_type": "execute_result"
    }
   ],
   "source": [
    "### algunas funciones elementales ####\n",
    "b = np.array([1,2,5,6]) ### creamos otro array para hacer operaciones con el array a\n",
    "print  (\"Tipo del objeto a = \",  type(a)) ### tipo de objeto \n",
    "print (\" Dimensión de a = \", a.ndim)  ###dimension del array\n",
    "print (\" Cantidad de elementos = \", len(a))  ### cantidad de elementos en la primera dimension\n",
    "print (\" Sumatoria elementos de a = \", np.sum(a)) ### suma todos los elementos del array\n",
    "print (\"a_1, a_3 =\", a[0], a[2]) ### para acceder a los elementos del array, note que el contador comienza en 0, a[0] es el primer elemento\n",
    "print (\"a_4 = \", a[-1]) ### nos otorga el último elemento del array\n",
    "print (\"Promedio elementos de a=\", np.mean(a)) ### nos entrega el promedio\n",
    "print (\"3*a= \", 3*a)  ### multiplica todos los terminos del array\n",
    "print (\" a+2 = \", 2 + a) ### cuando sumamos un número a un array, este se suma a cada término\n",
    "print (\" a*b = \", a*b) ### la multiplicaciones de arrays usando * es término a término\n",
    "print (\" <a,b> = \", np.dot(a,b)) ### corresponde al producto punto entre vectores\n",
    "np.shape(a)"
   ]
  },
  {
   "cell_type": "code",
   "execution_count": 13,
   "metadata": {},
   "outputs": [
    {
     "name": "stdout",
     "output_type": "stream",
     "text": [
      "Dimensiones de A y B = (2, 4) (4, 2)\n",
      "Fila 1 de A =  [1. 2. 3. 4.]\n",
      "Fila 2 de A =  [5. 6. 3. 1.]\n",
      "Columna 1 de A =  [1. 5.]\n",
      "Elemento A_{2,2} =  6.0\n",
      "A*B =\n",
      " [[18. 72.]\n",
      " [27. 97.]]\n"
     ]
    }
   ],
   "source": [
    "########## Arrays 2 dimensionales (matrices) ############\n",
    "A = np.array ([[1,2,3,4],[5,6,3,1]] ,  dtype = float) ### creación de un array de 2x4\n",
    "B = np.array ([[1,5],[2,8],[3,5],[1,9]], dtype = float) ### creación de un array de 4x2\n",
    "\n",
    "print (\"Dimensiones de A y B =\",  np.shape(A), np.shape(B))  ### nos otorga ls dimensiones de los arreglos)\n",
    "print  (\"Fila 1 de A = \",  A[0,:]) ### nos da acceso a la primera fila del arreglo A\n",
    "print (\"Fila 2 de A = \", A[1,:]) ### nos da acceso a la segunda fila del arreglo A\n",
    "print (\"Columna 1 de A = \", A[:,0]) ### nos da acceso a la primera columna del arreglo A\n",
    "print (\"Elemento A_{2,2} = \", A[1,1]) ### nos entrega el elemento A_{2,2} de el arreglo A\n",
    "print (\"A*B =\\n\", np.dot(A,B)) ### multiplicación usual de matrices, note que se deben tener las dimensiones correctas de la multiplicación\n"
   ]
  },
  {
   "cell_type": "markdown",
   "metadata": {},
   "source": [
    "# Ejercicio 2\n",
    "\n",
    "* Defina las siguientes matrices\n",
    "\n",
    "$$\\begin{aligned}\n",
    "M = \\begin{bmatrix}\n",
    "    1 & 2 & 3 & 4 & 5 \\\\\n",
    "    3 & 4 & 5 & 6 & 7 \\\\\n",
    "    7 & 8 & 4.5 & 10.7 & 8\n",
    "      \\end{bmatrix}\n",
    "\\end{aligned}$$\n",
    "\n",
    "$$\\begin{aligned}\n",
    "  N = \\begin{bmatrix}\n",
    "    1 & 20 & 9  \\\\\n",
    "    3.4 & 4.1 & 0 \\\\\n",
    "    4.5 & 2  & 1.1\n",
    "  \\end{bmatrix}\n",
    "\\end{aligned}$$\n",
    "\n",
    "* Calcule $M^{2}$\n",
    "\n",
    "* Calcule $ N*M$"
   ]
  },
  {
   "cell_type": "code",
   "execution_count": 22,
   "metadata": {},
   "outputs": [],
   "source": [
    "######### Escribir Respuestas aca #############"
   ]
  },
  {
   "cell_type": "markdown",
   "metadata": {},
   "source": [
    "# Operaciones básicas con los array multidimensionales\n",
    "\n",
    "\n",
    "#### Vector de 0's o 1's"
   ]
  },
  {
   "cell_type": "code",
   "execution_count": 29,
   "metadata": {},
   "outputs": [
    {
     "name": "stdout",
     "output_type": "stream",
     "text": [
      "a = [0. 0. 0. 0. 0. 0.] y b =  [1. 1. 1. 1. 1.]\n"
     ]
    }
   ],
   "source": [
    "a = np.zeros(6)\n",
    "b = np.ones(5)\n",
    "print (\"a =\", a, \"y\", \"b = \",  b)"
   ]
  },
  {
   "cell_type": "markdown",
   "metadata": {},
   "source": [
    "#### Números aleatorios\n",
    "\n",
    "Generamos números aleatorios provenientes de una distribución uniforme $U[0,1]$"
   ]
  },
  {
   "cell_type": "code",
   "execution_count": 31,
   "metadata": {},
   "outputs": [
    {
     "name": "stdout",
     "output_type": "stream",
     "text": [
      "[0.98162723 0.44291769 0.44942089 0.82176869 0.8071474  0.69930929\n",
      " 0.08739987 0.96998056 0.67473498 0.23142746 0.41708172 0.68948982\n",
      " 0.42959858 0.07706302 0.93618612 0.2918856  0.08620558 0.5645969\n",
      " 0.96586735 0.90597628 0.88952522 0.80028053 0.39834822 0.65277657\n",
      " 0.82032905 0.69046084 0.33203112 0.69516378 0.57095263 0.35456679\n",
      " 0.04103749 0.18769304 0.651449   0.53998533 0.04212203 0.48695492\n",
      " 0.52667317 0.81884704 0.09782157 0.87893696 0.65023373 0.37863097\n",
      " 0.48214248 0.37658075 0.49259998 0.14882021 0.31311954 0.84127362\n",
      " 0.72905669 0.44909816 0.16441461 0.44664528 0.65937452 0.28005612\n",
      " 0.28817188 0.57555022 0.02302225 0.23740043 0.08194527 0.35029832\n",
      " 0.19476931 0.19948676 0.37477801 0.75123208 0.25367771 0.50506449\n",
      " 0.55915323 0.0487328  0.41127866 0.38435022 0.08551768 0.99006101\n",
      " 0.56138381 0.54106525 0.6728884  0.48025312 0.06368473 0.12243078\n",
      " 0.97669913 0.2906171  0.05472684 0.05888229 0.06980474 0.06213726\n",
      " 0.90212219 0.76542218 0.39642607 0.32014042 0.54613067 0.25348751\n",
      " 0.88982921 0.58884479 0.08142842 0.40350196 0.28167556 0.80834937\n",
      " 0.98279684 0.97710585 0.9312448  0.41261117]\n"
     ]
    }
   ],
   "source": [
    "a = np.random.rand(100)\n",
    "print(a)"
   ]
  },
  {
   "cell_type": "markdown",
   "metadata": {},
   "source": [
    "#### Funciones elementales\n",
    "\n",
    "Numpy tiene implementadas las funciones elementales, como el seno, coseno, logaritmo, logaritmo natural... etc. Lo bueno de numpy, es que podemos aplicar estas funciones a vectores, es decir, aplicamos la función a cada una de las componentes del vector. Veamos esto con un ejemplo"
   ]
  },
  {
   "cell_type": "code",
   "execution_count": 40,
   "metadata": {},
   "outputs": [
    {
     "data": {
      "image/png": "[encoded data removed]",
      "text/plain": [
       "<matplotlib.figure.Figure at 0x207e4b886a0>"
      ]
     },
     "metadata": {},
     "output_type": "display_data"
    }
   ],
   "source": [
    "import matplotlib.pylab as plt\n",
    "%matplotlib inline\n",
    "a = np.linspace(0,2*np.pi,100)\n",
    "b = np.sin(a)\n",
    "\n",
    "\n",
    "\n",
    "plt.figure(figsize = (10,10))\n",
    "#### Esta parte del código es para poner el eje x e y centrado en el origen\n",
    "ax = plt.gca()  # gca stands for 'get current axis'\n",
    "ax.spines['right'].set_color('none')\n",
    "ax.spines['top'].set_color('none')\n",
    "ax.xaxis.set_ticks_position('bottom')\n",
    "ax.spines['bottom'].set_position(('data',0))\n",
    "ax.yaxis.set_ticks_position('left')\n",
    "ax.spines['left'].set_position(('data',0))\n",
    "############################################################################\n",
    "plt.ylabel('eje y', fontsize=20) \n",
    "plt.xlabel('eje x', fontsize=20)\n",
    "plt.xlim(np.pi,2*np.pi)\n",
    "plt.xticks([0, np.pi,  2*np.pi], [r'$0$', r'$\\pi$',r'$2\\pi$'], fontsize = 15) \n",
    "plt.yticks([-1,-0.5,0,0.5,1], [r'$-1$',r'$-0.5$',r'$0$', r'$0.5$',r'$1$'], fontsize = 15) ## el argumento es un array y un array de latex!! \n",
    "plt.plot(a,b, color = \"green\")\n",
    "plt.show()"
   ]
  },
  {
   "cell_type": "markdown",
   "metadata": {},
   "source": [
    "# Ciclos y sentencias condicionales\n",
    "Un $\\textit{ciclo for}$ es un ciclo que repite el bloque de instrucciones un número prederminado de veces. El bloque de instrucciones que se repite se suele llamar cuerpo del ciclo y cada repetición se suele llamar iteración.\n",
    "\n",
    "La sintaxis de un bucle for es la siguiente:\n",
    "\n",
    " `for variable in objeto a iterar: \n",
    "             Cuperpo del ciclo`\n",
    "             \n",
    "El objeto a iterar puede ser una matriz, una lista, un rango. La sintaxis variable corresponde a los elementos dentro del objeto que deseamos iterar. Python es amigable con la sintaxis, en vez de haber escrito $\\textit{variable}$, podríamos haber escrito otro calificativo (que conviene escribirlo dependiendo del problema) como $\\textit{número}$ si por ejemplo el objeto a iterar es una lista de números.\n"
   ]
  },
  {
   "cell_type": "code",
   "execution_count": 1,
   "metadata": {},
   "outputs": [
    {
     "name": "stdout",
     "output_type": "stream",
     "text": [
      "I\n",
      "n\n",
      "t\n",
      "r\n",
      "o\n",
      "d\n",
      "u\n",
      "c\n",
      "c\n",
      "i\n",
      "o\n",
      "n\n",
      " \n",
      "a\n",
      " \n",
      "l\n",
      "a\n",
      " \n",
      "i\n",
      "n\n",
      "g\n",
      "e\n",
      "n\n",
      "i\n",
      "e\n",
      "r\n",
      "i\n",
      "a\n"
     ]
    }
   ],
   "source": [
    "## EJEMPLO  : Recorrer una cadena de texto##\n",
    "for letra in 'Introduccion a la ingenieria':\n",
    "    print (letra)"
   ]
  },
  {
   "cell_type": "markdown",
   "metadata": {},
   "source": [
    "**Importante:** Recuerden que Python es un software con lenguaje base ingles, por lo tanto no reconoce los acentos en las cadenas de texto. En el ejemplo 1, escribimos el texto \"Introducción a la Ingenieria\" y nuestro ciclo reconoció cada letra que compone la frase. En cada iteración se imprimió la letra correspondiente."
   ]
  },
  {
   "cell_type": "code",
   "execution_count": 10,
   "metadata": {},
   "outputs": [
    {
     "name": "stdout",
     "output_type": "stream",
     "text": [
      "El cuadrado de 1 vale 1\n",
      "El cuadrado de 2 vale 4\n",
      "El cuadrado de 3 vale 9\n",
      "El cuadrado de 4 vale 16\n",
      "El cuadrado de 5 vale 25\n",
      "El cuadrado de 6 vale 36\n",
      "El cuadrado de 7 vale 49\n",
      "El cuadrado de 8 vale 64\n",
      "El cuadrado de 9 vale 81\n",
      "El cuadrado de 10 vale 100\n",
      "El cuadrado de 11 vale 121\n",
      "El cuadrado de 12 vale 144\n",
      "El cuadrado de 13 vale 169\n",
      "El cuadrado de 14 vale 196\n",
      "El cuadrado de 15 vale 225\n",
      "El cuadrado de 16 vale 256\n",
      "El cuadrado de 17 vale 289\n",
      "El cuadrado de 18 vale 324\n",
      "El cuadrado de 19 vale 361\n",
      "El cuadrado de 20 vale 400\n"
     ]
    }
   ],
   "source": [
    "## EJEMPLO ##\n",
    "def cuadrado(x):\n",
    "    return x**2\n",
    "a = np.arange(20) +1\n",
    "for i in a:\n",
    "    print ('El cuadrado de',  i,  'vale', cuadrado(i))"
   ]
  },
  {
   "cell_type": "markdown",
   "metadata": {},
   "source": [
    " # Proposicones Lógicas\n",
    "Una expresión lógica es algo verdadero o falso. Por ejemplo, sabemos que 2 es mayor que 1, por lo tanto es verdadero. Si pensamos en “2 es mayor que 1”, es falso. Este tipo de expresiones están plenamente soportadas en cualquier lenguaje de programación, y en Python tenemos las de la siguiente tabla:\n",
    "\n",
    "|Expresión | Resultado  |  Operador   |  Ejemplo   |\n",
    "|------|------|-----|-----|\n",
    "|  Igual   | Verdadero (True) si los dos operandos son iguales; falso (False) si no|   ==  |  2 == 3, retorna False.   |\n",
    "|Disntinto |Verdadero (True) si los dos operandos son diferentes; falso (False) si no|!=|2!=4, retorna True.|\n",
    "| Mayor que | Verdaero (True) si el lado izquierdo es mayor que el lado derecho, falso (False) si no| >| 100 > 9, retorna True.|\n",
    "|Mayor o igual que| Verdaero (True) si el lado izquierdo es mayor o igual que el lado derecho, falso (False) si no| >= | 100>=100 retorna True|\n",
    "| Negación | \tVerdadero (True) si la expresión a su derecha es falsa (False); falso (False) si no| not | not 500 < 200, retorna True|\n",
    "| Y lógico | Verdadero (True) si la expresión a su izquierda es verdadera y también la expresióna su derecha. Falso (False) encualquier otro caso| and| 6 <= 6 and 2 ==2 retorna True.| \n",
    "| O lógico | Verdadero (True) si la expresión a su izquierda es verdadera o lo es la expresión a su derecha. Falso (False) sólo en caso de que las dos sean falsas.| or | 10 <= 3 or 2 == 2, retorna True.|"
   ]
  },
  {
   "cell_type": "code",
   "execution_count": 11,
   "metadata": {},
   "outputs": [
    {
     "name": "stdout",
     "output_type": "stream",
     "text": [
      "False\n",
      "True\n",
      "True\n",
      "True\n",
      "True\n",
      "True\n",
      "True\n"
     ]
    }
   ],
   "source": [
    "print(2 == 3)\n",
    "print (2 != 4)\n",
    "print (100 >9)\n",
    "print (100>= 100)\n",
    "print (not 500 < 200)\n",
    "print (6<= 6 and 2 ==2)\n",
    "print (10<= 3 or 2 ==2)"
   ]
  },
  {
   "cell_type": "markdown",
   "metadata": {},
   "source": [
    "# Sentencias condicionales\n",
    "\n",
    "Observemos la siguiente linea de código"
   ]
  },
  {
   "cell_type": "code",
   "execution_count": 12,
   "metadata": {},
   "outputs": [
    {
     "name": "stdout",
     "output_type": "stream",
     "text": [
      "Efectivamente, 10 es menor que 30\n"
     ]
    }
   ],
   "source": [
    "if 10 > 30:\n",
    "    print(\"Python no funciona: cree que 10 es mayor que 30.\")\n",
    "elif 10 == 30:\n",
    "    print(\"Tampoco: ahora cree que 10 es igual a 30.\")\n",
    "else:\n",
    "    print(\"Efectivamente, 10 es menor que 30\")"
   ]
  },
  {
   "cell_type": "markdown",
   "metadata": {},
   "source": [
    "La sentencia  `if` significa “si”, sin tilde, condicional; else significa “en otro caso”, o “si no”; elif es simplemente una contracción de else e if. La parte de elif se podría haber omitido (es opcional) o repetido muchas veces, para evaluar toda una retahíla de condiciones alternativas. El final de la construcción, else, también es opcional pero sólo puede escribirse una vez.\n",
    "\n",
    "Es obvio que el resultado de la sentencia de ejemplo va a ser la frase “Efectivamente, 10 es menor que 30. Y así debe ser.”\n",
    "\n",
    "Así, queda clara la estructura de las condiciones en Python: se escriben usando la sentencia compuesta `if`, `elif`, `else`. Nos proporciona una forma de especificar una condición principal que, si se cumple, ejecuta un bloque de código. Para los casos en los que esa condición no se cumpla, podremos opcionalmente especificar una serie arbitrariamente larga de condiciones alternativas que, si se cumpliesen, harían que el intérprete de Python ejecutase otros bloques de código. Por último podremos especificar opcionalmente un último miembro que se ejecutará si todo lo demás es falso.\n",
    "\n",
    "**Importante**: Las condiciones de esta sentencia compuesta son excluyentes, tal y como marcan las conjunciones inglesas `else`, que podemos entender como “por el contrario”. `if`, `elif`, `else` especifican lo que se conoce como un árbol de reglas: en el momento en el que se cumple una de sus condiciones, el código toma una dirección y el resto del árbol no se evalúa.  Consideremos el siguiente ejemplo"
   ]
  },
  {
   "cell_type": "code",
   "execution_count": 15,
   "metadata": {},
   "outputs": [
    {
     "name": "stdout",
     "output_type": "stream",
     "text": [
      "3 es mayor que 2.\n"
     ]
    }
   ],
   "source": [
    "if 3 > 2:\n",
    "    print (\"3 es mayor que 2.\")\n",
    "elif 3 < 5:\n",
    "    print (\"3 es menor que 5.\")\n",
    "elif 4 < 9:\n",
    "    print (\"4 es menor que 9.\")\n",
    "else:\n",
    "    print (\"Si lees esto... gg me voy de aquí\")"
   ]
  },
  {
   "cell_type": "markdown",
   "metadata": {},
   "source": [
    "Todas las sentencias condicionales son verdaderas, sin embargo solo se ejecuta la primera, esto es por que Python encuentra una rama de árbol en que se cumpla la afirmación, la ejecuta y todo termina.\n",
    "\n",
    "En el siguiente ejemplo, usaremos el comando `raw_input()`, que corresponde a una función de interacción con el usuario. Simplemente la consola nos solicita un dato (que puede ser númerico, string, entre otros) de forma interactiva."
   ]
  },
  {
   "cell_type": "code",
   "execution_count": 17,
   "metadata": {},
   "outputs": [
    {
     "name": "stdout",
     "output_type": "stream",
     "text": [
      "Ingresa un entero, por favor: 10\n"
     ]
    }
   ],
   "source": [
    "x = int(input(\"Ingresa un entero, por favor: \"))"
   ]
  },
  {
   "cell_type": "code",
   "execution_count": 20,
   "metadata": {},
   "outputs": [
    {
     "name": "stdout",
     "output_type": "stream",
     "text": [
      "Ingresa un entero, por favor: 10\n",
      "El numero es positivo\n"
     ]
    }
   ],
   "source": [
    "## Ejemplo ## \n",
    "numero = int(input(\"Ingresa un entero, por favor: \")) ## solicitamos a la consola preguntarnos por un numero\n",
    "if numero < 0:   \n",
    "    print ('El numero ingresado es negativo')\n",
    "elif numero == 0:\n",
    "    print ('El numero ingresado es 0')\n",
    "elif numero > 0:\n",
    "    print ('El numero es positivo')\n"
   ]
  },
  {
   "cell_type": "markdown",
   "metadata": {},
   "source": [
    "# Sentencias `while` y `break`\n",
    "While en inglés significa mientras, la sentencia `while` corresponde a un ciclo que se ejecutara hasta que una condición que hayamos indicado se cumpla, observar el siguiente ejemplo\n"
   ]
  },
  {
   "cell_type": "code",
   "execution_count": null,
   "metadata": {},
   "outputs": [],
   "source": [
    "## Ejemplo ##\n",
    "contador = 0\n",
    "while contador < 100:\n",
    "    print contador, \n",
    "    contador = contador + 1\n"
   ]
  },
  {
   "cell_type": "markdown",
   "metadata": {},
   "source": [
    "El código anterior crea un contador, notar que impusimos la condición `while contador < 100`, esto significa que contaremos los 100 primeros números. Note con cuidado que el conteo comienza con el número 0. \n",
    "\n",
    "Otro ejemplo interesante, es la famosa sucesión de Fibonacci. La sucesión se define de forma recursiva:\n",
    "$$a_n = a_{n-1} + a_{n-2}$$\n",
    "iniciando con $a_0 = 0$ y $a_1 = 1$"
   ]
  },
  {
   "cell_type": "code",
   "execution_count": 24,
   "metadata": {},
   "outputs": [
    {
     "name": "stdout",
     "output_type": "stream",
     "text": [
      "1\n",
      "1\n",
      "2\n",
      "3\n",
      "5\n",
      "8\n",
      "13\n",
      "21\n",
      "34\n",
      "55\n",
      "89\n",
      "144\n",
      "233\n",
      "377\n",
      "610\n",
      "987\n",
      "1597\n",
      "2584\n",
      "4181\n",
      "6765\n"
     ]
    }
   ],
   "source": [
    "## Ejemplo: sucesión de Fibonacci\n",
    "a, b = 0, 1   # primeros dos elementos de la sucesión\n",
    "while b < 10000:\n",
    "    print (b)\n",
    "    a, b = b, a+b"
   ]
  },
  {
   "cell_type": "markdown",
   "metadata": {},
   "source": [
    "La sentencia `break` se puede usar en bucles  `for`y `while` y simplemente termina el ciclo actual y continua con la ejecución de la siguiente instrucción, por ejemplo el código siguiente es un detector de números primos!"
   ]
  },
  {
   "cell_type": "code",
   "execution_count": 27,
   "metadata": {},
   "outputs": [
    {
     "name": "stdout",
     "output_type": "stream",
     "text": [
      "2 es  primo\n",
      "3 es  primo\n",
      "4 no es primo\n",
      "5 es  primo\n",
      "6 no es primo\n",
      "7 es  primo\n",
      "8 no es primo\n",
      "9 no es primo\n",
      "10 no es primo\n",
      "11 es  primo\n",
      "12 no es primo\n",
      "13 es  primo\n",
      "14 no es primo\n",
      "15 no es primo\n",
      "16 no es primo\n",
      "17 es  primo\n",
      "18 no es primo\n",
      "19 es  primo\n",
      "20 no es primo\n",
      "21 no es primo\n",
      "22 no es primo\n",
      "23 es  primo\n",
      "24 no es primo\n",
      "25 no es primo\n",
      "26 no es primo\n",
      "27 no es primo\n",
      "28 no es primo\n",
      "29 es  primo\n"
     ]
    }
   ],
   "source": [
    "tope = 30\n",
    "for x in range(2,tope):\n",
    "    for y in range (2,x):\n",
    "        if x % y == 0:\n",
    "            print (x, 'no es primo')    \n",
    "            break                      ############# Se termina el ciclo for cuando se encuentra un divisor!!!\n",
    "    else:\n",
    "        print (x, 'es  primo')"
   ]
  },
  {
   "cell_type": "markdown",
   "metadata": {},
   "source": [
    "**Observación:** En el código que usamos para detectar números primos, usamos la función `%` que entrega el resto de la división, por ejemplo $a$ `%` $b$ corresponde al resto de dividr $a$ por $b$"
   ]
  },
  {
   "cell_type": "markdown",
   "metadata": {},
   "source": [
    "# Ejercicio\n",
    "\n",
    "Un ejemplo interesante es programar la multiplicación matricial, si bien esta función esta incorporada en `numpy` con el comando `np.dot()`, resulta interesante programarla con fines de entrenamiento. Sean entonces $A\\in\\mathcal{M}_{m,n}(\\mathbb{R})$ y $A\\in\\mathcal{M}_{n,p}(\\mathbb{R})$. Escribir un código para calcular $C = AB$. Recordar que el elemento $c_{i,j}$ de la matriz $C$ viene dado por \n",
    "$$c_{i,j} = \\sum_{k = 1}^n a_{i,k}b_{k,j}$$"
   ]
  },
  {
   "cell_type": "code",
   "execution_count": null,
   "metadata": {},
   "outputs": [],
   "source": []
  }
 ],
 "metadata": {
  "kernelspec": {
   "display_name": "Python 3",
   "language": "python",
   "name": "python3"
  },
  "language_info": {
   "codemirror_mode": {
    "name": "ipython",
    "version": 3
   },
   "file_extension": ".py",
   "mimetype": "text/x-python",
   "name": "python",
   "nbconvert_exporter": "python",
   "pygments_lexer": "ipython3",
   "version": "3.6.4"
  }
 },
 "nbformat": 4,
 "nbformat_minor": 1
}
