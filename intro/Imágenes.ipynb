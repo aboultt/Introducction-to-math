{
 "cells": [
  {
   "cell_type": "markdown",
   "metadata": {},
   "source": [
    "# Imágenes digitales\n",
    "\n",
    "\n",
    "### Imagen digital \n",
    "\n",
    "Corresponde a una fotografía, dibujo u otro tipo de imagen que es covertida en un archivo de computadora. Un archivo de computadora corresponde a un conjunto de bits. \n",
    "\n",
    "### Pixel \n",
    "\n",
    "El Pixel corresponde a la unidad mínima de la visualización de una imágen digital. Las imágenes están formadas por una cuadricula de pixeles.\n",
    "![title](im1.png)\n",
    "\n",
    "\n",
    "### Profundidad de color\n",
    "\n",
    "\n",
    "La profundidad de color se refiere al número de bits necesarios para codificar y guardar la información de color de cada píxel en una imagen. Un bit  puede tener el valor 0 ó 1. \n",
    "\n",
    "\n",
    "* Codificación 1 bit: Blanco (1) y Negro (0)\n",
    "* Codificación 2 bits: Blanco (11), Negro (00), color A (10) y color B (01)\n",
    "* Codificación 3 bits: 8 colores\n",
    "* En general, para una codificación de $n$ bits se tienen $2^n$. La más popular corresponde a $n = 8$ bits, dando una parrilla de 256 colores posibles.\n",
    "\n",
    "### Resolución de la Imagen\n",
    "\n",
    "Corresponde a el grado de detalle que posee la imagen, en el sentido de cuantos pixeles esta posee. Mientras más pixeles posea mayor será la calidad de la imagen. La unidad de medida estándar para la resolución corresponde a los pixeles por pulgada lineal $(ppp)$. Existen otros tipos de cuantificar la resolución de la imagen, como por ejemplo contar cuantos pixeles tiene simplemente. Una foto proveniente de una camara digital de $10MP$ posee 10 millones de pixeles.\n",
    "\n",
    "\n",
    "### Modo de color\n",
    "\n",
    "Corresponde al sistema coordenado que permite describir el color en cada pixel\n",
    "\n",
    "* **Modo monocromatico ó mapa de bits**: Profundidad de color 1 bit\n",
    "![title](im2.png)\n",
    "\n",
    "* **Modo escala de grises**: Cada color en un pixel es descrito con un sistema de coordenadas unidimensional con una profundidad de color de 8 bits (256 colores). Los colores varian entre el negro puro y el blanco puro.\n",
    "![title](im3.png)\n",
    "\n",
    "* **Modo color indexado**: Cada color en un pixel es descrito con un sistema de coordenadas unidimensional con una profundidad de color de 8 bits (256 colores). Hay distintos tipos de colores, como blanco, verde, cafe, rojo etc.\n",
    "![title](im4.png)\n",
    "* **Modo RGB**: Este modo en la actualidad es uno de los más utilizados, cada color en un pixel es descrito por un sistema coordenado tridimensional, cada coordenada tiene una profundidad de color de 8 bits. Esto es, cada color $X$ se expresa de la forma $$\\text{color}\\hspace{0.1cm} X = (x_1,x_2,x_3) $$ con $(x_1,x_2,x_3)\\in [0,255]^3$\n",
    "\n",
    "![title](im5.png)\n",
    "\n",
    "\n",
    "\n",
    "# Trabajemos en Python!\n"
   ]
  },
  {
   "cell_type": "code",
   "execution_count": null,
   "metadata": {},
   "outputs": [],
   "source": [
    "import numpy as np\n",
    "import matplotlib.pyplot as plt\n",
    "%matplotlib inline\n",
    "from PIL import Image \n",
    "plt.figure(figsize = (10,10))\n",
    "goku = Image.open('goku-limit-breaker.JPG')  ### LECTURA DE LA IMAGEN\n",
    "plt.imshow(goku)\n",
    "plt.axis('off')\n",
    "plt.show()"
   ]
  },
  {
   "cell_type": "code",
   "execution_count": null,
   "metadata": {},
   "outputs": [],
   "source": [
    "## Obteniendo información de la imágen ##\n",
    "print (goku.format, goku.size, goku.mode, goku.getdata)"
   ]
  },
  {
   "cell_type": "markdown",
   "metadata": {},
   "source": [
    "Al imprimir los comandos anteriores, `goku.format` nos otorgo el formato de la imágen, el cual es JPEG. Por otro lado`goku.size` nos otorgo la tupla `(616, 1024)`, esto significa que la imagen es de 616 por 1024 pixeles!. Finalmente `goku.mode` nos otorgo el modo, que en este caso es RGB."
   ]
  },
  {
   "cell_type": "markdown",
   "metadata": {},
   "source": [
    "### Conversión de la imagen en un array\n",
    "Convertiremos la imagen en una matriz de Numpy"
   ]
  },
  {
   "cell_type": "code",
   "execution_count": null,
   "metadata": {},
   "outputs": [],
   "source": [
    "goku_matriz = np.asarray(Image.open('goku-limit-breaker.JPG'))\n",
    "print (goku_matriz.shape)\n",
    "plt.figure(figsize = (10,10))\n",
    "plt.imshow(goku_matriz)"
   ]
  },
  {
   "cell_type": "markdown",
   "metadata": {},
   "source": [
    "Intencionalmente a modo de ilustración dejamos los valores en los ejes en la imagen anterior. Cada pixel es representado por una coordenada en el plano cartesiano. Para acceder a el color presente en cada pixel hacemos lo siguiente"
   ]
  },
  {
   "cell_type": "code",
   "execution_count": null,
   "metadata": {},
   "outputs": [],
   "source": [
    "## accedemos a cualquier color del pixel+\n",
    "nx = 5   ####### nx va entre 0 y 1023\n",
    "ny = 100    ###### ny va entre 0 y 615\n",
    "print ('el color del pixel', (nx,ny), 'es', goku_matriz[nx,ny,:])"
   ]
  },
  {
   "cell_type": "code",
   "execution_count": null,
   "metadata": {},
   "outputs": [],
   "source": [
    "### profundidad de color ###\n",
    "goku_matriz.dtype ### 'unit 8' significa que la profundidad de color son 8 bits"
   ]
  },
  {
   "cell_type": "markdown",
   "metadata": {},
   "source": [
    "### Conversión a escala de grises\n",
    "\n",
    "La conversión de una imagen RGB a escala de grises es sencilla. El color de cada pixel viene dado por la formúla\n",
    "\n",
    "$$ 0.299R + 0.587G + 0.114B $$\n",
    "\n",
    "Note que al realizar esta conversión, la imagen ya deja de estar en formato RGB."
   ]
  },
  {
   "cell_type": "code",
   "execution_count": null,
   "metadata": {},
   "outputs": [],
   "source": [
    "### Conversión manual ###\n",
    "def conversion_gris(matriz):\n",
    "    gris = 0.299*matriz[:,:,0] + 0.587*matriz[:,:,1] + 0.114*matriz[:,:,2]\n",
    "    return gris\n",
    "\n",
    "plt.figure(figsize = (10,10))\n",
    "plt.axis('off')\n",
    "goku_gris = conversion_gris(goku_matriz)\n",
    "goku_gris.astype(int) ### Transformamos la matriz a enteros!!\n",
    "plt.imshow(goku_gris, cmap = plt.get_cmap('gray'))\n",
    "np.shape(goku_gris)"
   ]
  },
  {
   "cell_type": "code",
   "execution_count": null,
   "metadata": {},
   "outputs": [],
   "source": [
    "#### EEJERCICIO CONSTRUIR UNA FOTO DE ROJO PURO, VERDE PURO Y AZUL PURO.\n",
    "############## VALORES NORMALIZADOS ##################\n",
    "M = np.zeros((100,100,3))\n",
    "###### EDITAR ACA #################\n",
    "\n",
    "###################################\n",
    "\n",
    "M = np.array(M)\n",
    "imagen = Image.fromarray(M, mode = 'RGB')\n",
    "plt.imshow(M)"
   ]
  },
  {
   "cell_type": "markdown",
   "metadata": {},
   "source": [
    "### Esta ya instaurada la forma de transformar una imagen a escala de grises!!"
   ]
  },
  {
   "cell_type": "code",
   "execution_count": null,
   "metadata": {},
   "outputs": [],
   "source": [
    "plt.figure(figsize = (10,10))\n",
    "netero = Image.open('netero.jpg')\n",
    "plt.axis('off')\n",
    "plt.imshow(netero)\n"
   ]
  },
  {
   "cell_type": "code",
   "execution_count": null,
   "metadata": {},
   "outputs": [],
   "source": [
    "## a grises ##\n",
    "plt.figure(figsize = (10,10))\n",
    "plt.axis('off')\n",
    "netero_gris = Image.open('netero.jpg').convert('LA')\n",
    "plt.imshow(netero_gris)"
   ]
  },
  {
   "cell_type": "markdown",
   "metadata": {},
   "source": [
    "### Disminución del tamaño de una imagen\n",
    "\n",
    "A veces conviene disminuir el tamaño de la imagen para ahorrar memoria. Basta realizar"
   ]
  },
  {
   "cell_type": "code",
   "execution_count": null,
   "metadata": {},
   "outputs": [],
   "source": [
    "plt.figure(figsize = (10,10))\n",
    "plt.axis('off')\n",
    "netero_chico = netero.resize((256,128))\n",
    "plt.imshow(netero_chico)"
   ]
  },
  {
   "cell_type": "code",
   "execution_count": null,
   "metadata": {},
   "outputs": [],
   "source": [
    "im = np.asarray(Image.open('netero.jpg'))\n",
    "plt.figure(figsize = (10,10))\n",
    "plt.axis('off')\n",
    "plt.imshow(im)\n",
    "x = [100,100,400,400]\n",
    "y = [200,500,200,500]\n",
    "# Conectado los dos primeros puntos\n",
    "plt.plot(x[:2],y[:2])"
   ]
  },
  {
   "cell_type": "code",
   "execution_count": null,
   "metadata": {},
   "outputs": [],
   "source": [
    "im = np.asarray(Image.open('netero.jpg'))\n",
    "plt.figure(figsize = (10,10))\n",
    "plt.axis('off')\n",
    "plt.imshow(im)\n",
    "x = [100,100,400,400]\n",
    "y = [200,500,200,500]\n",
    "plt.plot(x,y,'r*')\n"
   ]
  },
  {
   "cell_type": "markdown",
   "metadata": {},
   "source": [
    "# Librería OpenCV"
   ]
  },
  {
   "cell_type": "code",
   "execution_count": null,
   "metadata": {},
   "outputs": [],
   "source": [
    "import numpy as np\n",
    "import cv2\n",
    "m =  cv2.imread(\"Amazonia.png\")\n",
    "print(np.shape(m))"
   ]
  },
  {
   "cell_type": "markdown",
   "metadata": {},
   "source": [
    "### Accediendo a los valores de cada pixel"
   ]
  },
  {
   "cell_type": "code",
   "execution_count": null,
   "metadata": {},
   "outputs": [],
   "source": [
    "y = 10\n",
    "x = 100\n",
    "print (m[y][x])"
   ]
  },
  {
   "cell_type": "markdown",
   "metadata": {},
   "source": [
    "### Iteración sobre los pixeles"
   ]
  },
  {
   "cell_type": "code",
   "execution_count": null,
   "metadata": {},
   "outputs": [],
   "source": [
    "h,a,b = np.shape(m)\n",
    "for py in range(0,h):\n",
    "    for px in range(0,a):\n",
    "        print (m[py][px])"
   ]
  },
  {
   "cell_type": "code",
   "execution_count": 7,
   "metadata": {},
   "outputs": [
    {
     "data": {
      "text/plain": [
       "-1"
      ]
     },
     "execution_count": 7,
     "metadata": {},
     "output_type": "execute_result"
    }
   ],
   "source": [
    "#### cambiar el canal rojo ######\n",
    "for py in range(0,h):\n",
    "    for px in range(0,w):\n",
    "        m[py][px][0] = 0\n",
    " cv2.imshow('matrix', m)\n",
    "cv2.waitKey(0)\n"
   ]
  },
  {
   "cell_type": "markdown",
   "metadata": {},
   "source": [
    "# Detección de color"
   ]
  },
  {
   "cell_type": "code",
   "execution_count": 12,
   "metadata": {},
   "outputs": [],
   "source": [
    "import matplotlib.pylab as plt\n",
    "import cv2\n",
    "import numpy as np\n",
    "imagen = cv2.imread('colores.png')\n",
    "fronteras = [\n",
    "    ([17, 15, 100], [50, 56, 200]),\n",
    "    ([86, 31, 4], [220, 88, 50]),\n",
    "    ([25, 146, 190], [62, 174, 250]),\n",
    "    ([103, 86, 65], [145, 133, 128])\n",
    "]\n",
    "for (cota_inferior, cota_superior) in fronteras:\n",
    "    # create NumPy arrays from the boundaries\n",
    "    cota_inferior = np.array(cota_inferior, dtype = \"uint8\")\n",
    "    cota_superior = np.array(cota_superior, dtype = \"uint8\")\n",
    "    mask = cv2.inRange(imagen, cota_inferior, cota_superior)\n",
    "    output = cv2.bitwise_and(imagen, imagen, mask = mask)\n",
    "    cv2.imshow(\"imagen\", np.hstack([imagen, output]))\n",
    "    cv2.waitKey(0)"
   ]
  },
  {
   "cell_type": "markdown",
   "metadata": {},
   "source": [
    "# Ejercicio detectar el color rojo en la imagen anterior\n",
    "\n",
    "\n"
   ]
  },
  {
   "cell_type": "code",
   "execution_count": null,
   "metadata": {},
   "outputs": [],
   "source": [
    "#### Escribir codigo aca #####"
   ]
  },
  {
   "cell_type": "markdown",
   "metadata": {},
   "source": [
    "# Detección de imágenes"
   ]
  },
  {
   "cell_type": "code",
   "execution_count": null,
   "metadata": {},
   "outputs": [],
   "source": [
    "imagen = cv2.imread('photo.png')\n",
    "prueba = cv2.imread('template.png')\n",
    " \n",
    "\n",
    "imagen = cv2.resize(imagen, (0,0), fx=0.5, fy=0.5) \n",
    "prueba = cv2.resize(prueba, (0,0), fx=0.5, fy=0.5) \n",
    "\n",
    "imagen_gris = cv2.cvtColor(imagen, cv2.COLOR_BGR2GRAY)\n",
    "prueba_gris= cv2.cvtColor(prueba, cv2.COLOR_BGR2GRAY)\n",
    " \n",
    "result = cv2.matchTemplate(imagen_gris,prueba_gris, cv2.TM_CCOEFF)\n",
    "min_val, max_val, min_loc, max_loc = cv2.minMaxLoc(result)\n",
    "top_left = max_loc\n",
    "h,w = imagen_gris.shape\n",
    "bottom_right = (top_left[0] + w, top_left[1] + h)\n",
    "cv2.rectangle(imagen,top_left, bottom_right,(0,0,255),4)\n",
    " \n",
    "# Show result\n",
    "cv2.imshow(\"prueba\", template)\n",
    "cv2.imshow(\"Resultado\", image)\n",
    " \n",
    "cv2.moveWindow(\"Prueba\", 10, 50);\n",
    "cv2.moveWindow(\"Resultado\", 150, 50);\n",
    " \n",
    "cv2.waitKey(0)\n"
   ]
  }
 ],
 "metadata": {
  "kernelspec": {
   "display_name": "Python 3",
   "language": "python",
   "name": "python3"
  },
  "language_info": {
   "codemirror_mode": {
    "name": "ipython",
    "version": 3
   },
   "file_extension": ".py",
   "mimetype": "text/x-python",
   "name": "python",
   "nbconvert_exporter": "python",
   "pygments_lexer": "ipython3",
   "version": "3.6.4"
  }
 },
 "nbformat": 4,
 "nbformat_minor": 2
}
